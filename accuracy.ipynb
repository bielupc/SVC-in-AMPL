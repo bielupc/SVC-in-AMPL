{
 "cells": [
  {
   "cell_type": "markdown",
   "metadata": {},
   "source": [
    "# Accuracy Validation"
   ]
  },
  {
   "cell_type": "code",
   "execution_count": 10,
   "metadata": {},
   "outputs": [],
   "source": [
    "import numpy as np\n",
    "import pandas as pd"
   ]
  },
  {
   "cell_type": "code",
   "execution_count": 11,
   "metadata": {},
   "outputs": [],
   "source": [
    "# Read .dat file\n",
    "def read(file):\n",
    "    with open(file, 'r') as f:\n",
    "        lines = f.readlines()\n",
    "        data = np.empty((len(lines), len(lines[0].split())), dtype=np.float64)\n",
    "        for i, line in enumerate(lines):\n",
    "            data[i] = np.array([float(value) for value in line.split()])\n",
    "    return data\n",
    "    \n",
    "# Accuracy\n",
    "def acc(data, f):\n",
    "    correct = 0\n",
    "    for row in data:\n",
    "        label = row[-1]\n",
    "        predictors = row[:-1]\n",
    "        prediction = 1 if f(predictors) > 0 else -1\n",
    "        if (prediction == label):\n",
    "            correct += 1\n",
    "    return correct / len(data) * 100"
   ]
  },
  {
   "cell_type": "markdown",
   "metadata": {},
   "source": [
    "## Primal"
   ]
  },
  {
   "cell_type": "markdown",
   "metadata": {},
   "source": [
    "### Gensvmdat "
   ]
  },
  {
   "cell_type": "code",
   "execution_count": 12,
   "metadata": {},
   "outputs": [
    {
     "name": "stdout",
     "output_type": "stream",
     "text": [
      "87.5\n",
      "93.21428571428572\n"
     ]
    }
   ],
   "source": [
    "# Optimal plane\n",
    "def f(x):\n",
    "    w = np.array([5.39508,4.07744, 5.13014,4.89023])\n",
    "    gamma = -9.93337 \n",
    "    return w @ x + gamma\n",
    "test_set = read(\"SVM_test_PLAIN.dat\")\n",
    "train_set = read(\"SVM_train_PLAIN.dat\")\n",
    "\n",
    "print(acc(test_set, f))\n",
    "print(acc(train_set, f))"
   ]
  },
  {
   "cell_type": "markdown",
   "metadata": {
    "vscode": {
     "languageId": "plaintext"
    }
   },
   "source": [
    "### Chosen dataset"
   ]
  },
  {
   "cell_type": "code",
   "execution_count": 13,
   "metadata": {},
   "outputs": [
    {
     "name": "stdout",
     "output_type": "stream",
     "text": [
      "77.92207792207793\n",
      "77.28119180633148\n"
     ]
    }
   ],
   "source": [
    "# Optimal plane\n",
    "def f(x):\n",
    "    w = np.array([0.0965347, 0.0278867, -0.00902964, -0.00214287, -0.000346059, 0.0684611, 0.668653, -0.00308995])\n",
    "    gamma = -6.18726;\n",
    "    return w @ x + gamma\n",
    "test_set = read(\"DIABETES_test_PLAIN.dat\")\n",
    "train_set = read(\"DIABETES_train_PLAIN.dat\")\n",
    "\n",
    "print(acc(test_set, f))\n",
    "print(acc(train_set, f))"
   ]
  },
  {
   "cell_type": "markdown",
   "metadata": {},
   "source": [
    "## Dual"
   ]
  },
  {
   "cell_type": "markdown",
   "metadata": {},
   "source": [
    "### Gensvmdat "
   ]
  },
  {
   "cell_type": "markdown",
   "metadata": {},
   "source": [
    "### Chosen dataset"
   ]
  },
  {
   "cell_type": "markdown",
   "metadata": {
    "vscode": {
     "languageId": "plaintext"
    }
   },
   "source": [
    "## Kernel Trick"
   ]
  },
  {
   "cell_type": "markdown",
   "metadata": {},
   "source": [
    "### Generate"
   ]
  },
  {
   "cell_type": "markdown",
   "metadata": {},
   "source": [
    "### Accuracy"
   ]
  }
 ],
 "metadata": {
  "kernelspec": {
   "display_name": "aa",
   "language": "python",
   "name": "python3"
  },
  "language_info": {
   "codemirror_mode": {
    "name": "ipython",
    "version": 3
   },
   "file_extension": ".py",
   "mimetype": "text/x-python",
   "name": "python",
   "nbconvert_exporter": "python",
   "pygments_lexer": "ipython3",
   "version": "3.8.18"
  }
 },
 "nbformat": 4,
 "nbformat_minor": 2
}
