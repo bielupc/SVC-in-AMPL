{
 "cells": [
  {
   "cell_type": "markdown",
   "metadata": {},
   "source": [
    "# Accuracy Validation"
   ]
  },
  {
   "cell_type": "code",
   "execution_count": 1,
   "metadata": {},
   "outputs": [],
   "source": [
    "import numpy as np\n",
    "import pandas as pd"
   ]
  },
  {
   "cell_type": "markdown",
   "metadata": {},
   "source": [
    "## Primal"
   ]
  },
  {
   "cell_type": "markdown",
   "metadata": {},
   "source": [
    "### Gensvmdat "
   ]
  },
  {
   "cell_type": "code",
   "execution_count": 9,
   "metadata": {},
   "outputs": [
    {
     "name": "stdout",
     "output_type": "stream",
     "text": [
      "1\n",
      "-1\n"
     ]
    }
   ],
   "source": [
    "# Optimal plane\n",
    "def f(x):\n",
    "    w = np.array([4.64202, 3.03664, 4.08026, 4.4901])\n",
    "    gamma = -8.45784\n",
    "    return w @ x + gamma\n",
    "\n",
    "# Read .dat file\n",
    "def read(file):\n",
    "    with open(file, 'r') as f:\n",
    "        lines = f.readlines()\n",
    "        data = np.empty((len(lines), len(lines[0].split())), dtype=np.float64)\n",
    "        for i, line in enumerate(lines):\n",
    "            data[i] = np.array([float(value) for value in line.split()])\n",
    "    return data\n",
    "    \n",
    "# Accuracy\n",
    "def acc(data):\n",
    "    correct = 0\n",
    "    for row in data:\n",
    "        label = row[-1]\n",
    "        predictors = row[:-1]\n",
    "        prediction = 1 if f(predictors) > 0 else -1\n",
    "        if (prediction == label):\n",
    "            correct += 1\n",
    "    return correct / len(data) * 100"
   ]
  },
  {
   "cell_type": "code",
   "execution_count": 11,
   "metadata": {},
   "outputs": [
    {
     "name": "stdout",
     "output_type": "stream",
     "text": [
      "93.33333333333333\n",
      "92.85714285714286\n"
     ]
    }
   ],
   "source": [
    "test_set = read(\"SVM_test_PLAIN.dat\")\n",
    "train_set = read(\"SVM_train_PLAIN.dat\")\n",
    "\n",
    "print(acc(test_set))\n",
    "print(acc(train_set))"
   ]
  },
  {
   "cell_type": "markdown",
   "metadata": {
    "vscode": {
     "languageId": "plaintext"
    }
   },
   "source": [
    "### Chosen dataset"
   ]
  },
  {
   "cell_type": "markdown",
   "metadata": {},
   "source": [
    "## Dual"
   ]
  },
  {
   "cell_type": "markdown",
   "metadata": {},
   "source": [
    "### Gensvmdat "
   ]
  },
  {
   "cell_type": "markdown",
   "metadata": {},
   "source": [
    "### Chosen dataset"
   ]
  },
  {
   "cell_type": "markdown",
   "metadata": {
    "vscode": {
     "languageId": "plaintext"
    }
   },
   "source": [
    "## Kernel Trick"
   ]
  },
  {
   "cell_type": "markdown",
   "metadata": {},
   "source": [
    "### Generate"
   ]
  },
  {
   "cell_type": "markdown",
   "metadata": {},
   "source": [
    "### Accuracy"
   ]
  }
 ],
 "metadata": {
  "kernelspec": {
   "display_name": "aa",
   "language": "python",
   "name": "python3"
  },
  "language_info": {
   "codemirror_mode": {
    "name": "ipython",
    "version": 3
   },
   "file_extension": ".py",
   "mimetype": "text/x-python",
   "name": "python",
   "nbconvert_exporter": "python",
   "pygments_lexer": "ipython3",
   "version": "3.8.18"
  }
 },
 "nbformat": 4,
 "nbformat_minor": 2
}
